{
 "cells": [
  {
   "cell_type": "markdown",
   "metadata": {
    "slideshow": {
     "slide_type": "slide"
    }
   },
   "source": [
    "# Fast Ship Detection \n",
    "\n",
    "## Through kNN and Rolling Standardized Cross-Correlation\n",
    "\n",
    "### Abdulrahman A. Althobaiti"
   ]
  },
  {
   "cell_type": "markdown",
   "metadata": {
    "slideshow": {
     "slide_type": "slide"
    }
   },
   "source": [
    "# Outline\n",
    "\n",
    "* Airbus Ship Dataset\n",
    "* 2D Cross-Correlation - Historical Approach\n",
    "* Exploiting Marginal Distributions\n",
    "* Finding Similar Margins\n",
    "* Rolling Standardized Cross-Correlation"
   ]
  },
  {
   "cell_type": "markdown",
   "metadata": {
    "slideshow": {
     "slide_type": "slide"
    }
   },
   "source": [
    "# Airbus Ship Dataset"
   ]
  },
  {
   "cell_type": "markdown",
   "metadata": {
    "slideshow": {
     "slide_type": "subslide"
    }
   },
   "source": [
    "Aerial pictures of ships are provided with their bounding boxes.\n",
    "\n",
    "![title](shore.png)"
   ]
  },
  {
   "cell_type": "markdown",
   "metadata": {
    "slideshow": {
     "slide_type": "subslide"
    }
   },
   "source": [
    "Aerial pictures of ships are provided with their bounding boxes.\n",
    "\n",
    "\n",
    "![title](foggy.png)"
   ]
  },
  {
   "cell_type": "markdown",
   "metadata": {
    "slideshow": {
     "slide_type": "subslide"
    }
   },
   "source": [
    "Aerial pictures of ships are provided with their bounding boxes.\n",
    "\n",
    "![title](foggy1.png)"
   ]
  },
  {
   "cell_type": "markdown",
   "metadata": {
    "slideshow": {
     "slide_type": "subslide"
    }
   },
   "source": [
    "Aerial pictures of ships are provided with their bounding boxes.\n",
    "\n",
    "![title](corrupt.png)"
   ]
  },
  {
   "cell_type": "markdown",
   "metadata": {
    "slideshow": {
     "slide_type": "slide"
    }
   },
   "source": [
    "# 2D Cross-Correlation"
   ]
  },
  {
   "cell_type": "markdown",
   "metadata": {
    "slideshow": {
     "slide_type": "subslide"
    }
   },
   "source": [
    "Finding a small template in a larger one, search space is $O((n+m)^2)$\n",
    "\n",
    "![title](step1.png)"
   ]
  },
  {
   "cell_type": "markdown",
   "metadata": {
    "slideshow": {
     "slide_type": "subslide"
    }
   },
   "source": [
    "Finding a small template in a larger one, search space is $O((n+m)^2)$\n",
    "\n",
    "![title](step11.png)"
   ]
  },
  {
   "cell_type": "markdown",
   "metadata": {
    "slideshow": {
     "slide_type": "subslide"
    }
   },
   "source": [
    "Finding a small template in a larger one, search space is $O((n+m)^2)$\n",
    "\n",
    "![title](laststep.png)"
   ]
  },
  {
   "cell_type": "markdown",
   "metadata": {
    "slideshow": {
     "slide_type": "slide"
    }
   },
   "source": [
    "# Exploiting Marginal Distributions"
   ]
  },
  {
   "cell_type": "markdown",
   "metadata": {
    "slideshow": {
     "slide_type": "subslide"
    }
   },
   "source": [
    "* A colored (RGB) picture can be transformed to a black and white image.\n",
    "* Once normalized, we can consider it as a joint probability distribution.\n",
    "\n",
    "![title](black_and_white.png)"
   ]
  },
  {
   "cell_type": "markdown",
   "metadata": {
    "slideshow": {
     "slide_type": "subslide"
    }
   },
   "source": [
    "* From a joint distribution, we can obtain the marginal distributions.\n",
    "* The search space is now $O(n)$.\n",
    "\n",
    "![title](margins.png)\n",
    "\n",
    "* The marginals should sum to 1, but they are normalized in the picture."
   ]
  },
  {
   "cell_type": "markdown",
   "metadata": {
    "slideshow": {
     "slide_type": "slide"
    }
   },
   "source": [
    "# Finding Similar Margins (kNN)"
   ]
  },
  {
   "cell_type": "markdown",
   "metadata": {
    "slideshow": {
     "slide_type": "subslide"
    }
   },
   "source": [
    "Due to normalization and values close to zero, the 'Canberra' metric has a better performance in this task.\n",
    "\n",
    "![title](metrics.png)"
   ]
  },
  {
   "cell_type": "markdown",
   "metadata": {
    "slideshow": {
     "slide_type": "subslide"
    }
   },
   "source": [
    "Using the 'Canberra' distance, we find the best k=1.\n",
    "\n",
    "![title](bestk.png)"
   ]
  },
  {
   "cell_type": "markdown",
   "metadata": {
    "slideshow": {
     "slide_type": "slide"
    }
   },
   "source": [
    "# Rolling Standardized Cross-Correlation"
   ]
  },
  {
   "cell_type": "markdown",
   "metadata": {
    "slideshow": {
     "slide_type": "subslide"
    }
   },
   "source": [
    "### What is the rolling standardized cross-correlation\n",
    "\n",
    "![title](rolling.png)"
   ]
  },
  {
   "cell_type": "markdown",
   "metadata": {
    "slideshow": {
     "slide_type": "subslide"
    }
   },
   "source": [
    "### Why is it important?\n",
    "\n",
    "* Given a known template, we can compute the cross-correlation over the margins.\n",
    "* The x and y coordinates are given through $argmax$ of the cross-correlation.\n",
    "\n",
    "![title](prediction.png)"
   ]
  },
  {
   "cell_type": "markdown",
   "metadata": {
    "slideshow": {
     "slide_type": "slide"
    }
   },
   "source": [
    "# Summary\n",
    "\n",
    "* To locate objects in images, we consider the marginal distributions.\n",
    "\n",
    "\n",
    "* Given the marginal distributions, we can find the closest known template.\n",
    "\n",
    "\n",
    "* The Canberra distance is a better performer for normalized vectors and sensitive to values close to zero.\n",
    "\n",
    "\n",
    "* The rolling standardized cross-correlation proved to be robust against noise.\n",
    "\n",
    "\n",
    "* A 10 fold cross validation, scored an error rate of $13$%.\n",
    "\n",
    "\n",
    "* The accuracy of this framework over 4800 training images and 1200 testing images is $91.42$%.\n",
    "\n",
    "\n",
    "* We believe the accuracy can be improved through a careful investigation of the correlation values of the nearest neighbours."
   ]
  },
  {
   "cell_type": "markdown",
   "metadata": {
    "slideshow": {
     "slide_type": "slide"
    }
   },
   "source": [
    "# Thank You\n",
    "\n",
    "## Abdulrahman A. Althobaiti"
   ]
  }
 ],
 "metadata": {
  "celltoolbar": "Slideshow",
  "kernelspec": {
   "display_name": "Python 3",
   "language": "python",
   "name": "python3"
  },
  "language_info": {
   "codemirror_mode": {
    "name": "ipython",
    "version": 3
   },
   "file_extension": ".py",
   "mimetype": "text/x-python",
   "name": "python",
   "nbconvert_exporter": "python",
   "pygments_lexer": "ipython3",
   "version": "3.6.5"
  }
 },
 "nbformat": 4,
 "nbformat_minor": 2
}
